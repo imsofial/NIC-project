{
 "cells": [
  {
   "cell_type": "code",
   "id": "22337e1e",
   "metadata": {
    "_cell_guid": "b1076dfc-b9ad-4769-8c92-a6c4dae69d19",
    "_uuid": "8f2839f25d086af736a60e9eeb907d3b93b6e0e5",
    "execution": {
     "iopub.execute_input": "2025-03-11T20:07:22.803327Z",
     "iopub.status.busy": "2025-03-11T20:07:22.803038Z",
     "iopub.status.idle": "2025-03-11T20:07:37.540675Z",
     "shell.execute_reply": "2025-03-11T20:07:37.539570Z"
    },
    "papermill": {
     "duration": 14.747663,
     "end_time": "2025-03-11T20:07:37.543070",
     "exception": false,
     "start_time": "2025-03-11T20:07:22.795407",
     "status": "completed"
    },
    "tags": [],
    "ExecuteTime": {
     "end_time": "2025-04-15T10:35:42.794780Z",
     "start_time": "2025-04-15T10:35:40.560008Z"
    }
   },
   "source": [
    "# CNN algorithm implementation was used from https://www.kaggle.com/code/huseyinndogan/cnn-tumor-classification-with-96-accuracy and adapted a bit\n",
    "import numpy as np # linear algebra\n",
    "import pandas as pd # data processing, CSV file I/O (e.g. pd.read_csv)\n",
    "\n",
    "# Input data files are available in the read-only \"../input/\" directory\n",
    "# For example, running this (by clicking run or pressing Shift+Enter) will list all files under the input directory\n",
    "\n",
    "import os\n",
    "for dirname, _, filenames in os.walk('/kaggle/input'):\n",
    "    for filename in filenames:\n",
    "        print(os.path.join(dirname, filename))\n"
   ],
   "outputs": [],
   "execution_count": 1
  },
  {
   "cell_type": "code",
   "id": "cd648ff5",
   "metadata": {
    "ExecuteTime": {
     "end_time": "2025-04-15T10:35:49.793386Z",
     "start_time": "2025-04-15T10:35:45.863308Z"
    }
   },
   "source": [
    "!pip install tensorflow"
   ],
   "outputs": [
    {
     "name": "stdout",
     "output_type": "stream",
     "text": [
      "Requirement already satisfied: tensorflow in c:\\users\\hamza\\pycharmprojects\\nn_project\\.venv\\lib\\site-packages (2.19.0)\n",
      "Requirement already satisfied: absl-py>=1.0.0 in c:\\users\\hamza\\pycharmprojects\\nn_project\\.venv\\lib\\site-packages (from tensorflow) (2.1.0)\n",
      "Requirement already satisfied: astunparse>=1.6.0 in c:\\users\\hamza\\pycharmprojects\\nn_project\\.venv\\lib\\site-packages (from tensorflow) (1.6.3)\n",
      "Requirement already satisfied: flatbuffers>=24.3.25 in c:\\users\\hamza\\pycharmprojects\\nn_project\\.venv\\lib\\site-packages (from tensorflow) (25.2.10)\n",
      "Requirement already satisfied: gast!=0.5.0,!=0.5.1,!=0.5.2,>=0.2.1 in c:\\users\\hamza\\pycharmprojects\\nn_project\\.venv\\lib\\site-packages (from tensorflow) (0.6.0)\n",
      "Requirement already satisfied: google-pasta>=0.1.1 in c:\\users\\hamza\\pycharmprojects\\nn_project\\.venv\\lib\\site-packages (from tensorflow) (0.2.0)\n",
      "Requirement already satisfied: libclang>=13.0.0 in c:\\users\\hamza\\pycharmprojects\\nn_project\\.venv\\lib\\site-packages (from tensorflow) (18.1.1)\n",
      "Requirement already satisfied: opt-einsum>=2.3.2 in c:\\users\\hamza\\pycharmprojects\\nn_project\\.venv\\lib\\site-packages (from tensorflow) (3.4.0)\n",
      "Requirement already satisfied: packaging in c:\\users\\hamza\\pycharmprojects\\nn_project\\.venv\\lib\\site-packages (from tensorflow) (24.2)\n",
      "Requirement already satisfied: protobuf!=4.21.0,!=4.21.1,!=4.21.2,!=4.21.3,!=4.21.4,!=4.21.5,<6.0.0dev,>=3.20.3 in c:\\users\\hamza\\pycharmprojects\\nn_project\\.venv\\lib\\site-packages (from tensorflow) (5.29.3)\n",
      "Requirement already satisfied: requests<3,>=2.21.0 in c:\\users\\hamza\\pycharmprojects\\nn_project\\.venv\\lib\\site-packages (from tensorflow) (2.32.3)\n",
      "Requirement already satisfied: setuptools in c:\\users\\hamza\\pycharmprojects\\nn_project\\.venv\\lib\\site-packages (from tensorflow) (76.0.0)\n",
      "Requirement already satisfied: six>=1.12.0 in c:\\users\\hamza\\pycharmprojects\\nn_project\\.venv\\lib\\site-packages (from tensorflow) (1.17.0)\n",
      "Requirement already satisfied: termcolor>=1.1.0 in c:\\users\\hamza\\pycharmprojects\\nn_project\\.venv\\lib\\site-packages (from tensorflow) (2.5.0)\n",
      "Requirement already satisfied: typing-extensions>=3.6.6 in c:\\users\\hamza\\pycharmprojects\\nn_project\\.venv\\lib\\site-packages (from tensorflow) (4.12.2)\n",
      "Requirement already satisfied: wrapt>=1.11.0 in c:\\users\\hamza\\pycharmprojects\\nn_project\\.venv\\lib\\site-packages (from tensorflow) (1.17.2)\n",
      "Requirement already satisfied: grpcio<2.0,>=1.24.3 in c:\\users\\hamza\\pycharmprojects\\nn_project\\.venv\\lib\\site-packages (from tensorflow) (1.71.0)\n",
      "Requirement already satisfied: tensorboard~=2.19.0 in c:\\users\\hamza\\pycharmprojects\\nn_project\\.venv\\lib\\site-packages (from tensorflow) (2.19.0)\n",
      "Requirement already satisfied: keras>=3.5.0 in c:\\users\\hamza\\pycharmprojects\\nn_project\\.venv\\lib\\site-packages (from tensorflow) (3.9.0)\n",
      "Requirement already satisfied: numpy<2.2.0,>=1.26.0 in c:\\users\\hamza\\pycharmprojects\\nn_project\\.venv\\lib\\site-packages (from tensorflow) (2.1.3)\n",
      "Requirement already satisfied: h5py>=3.11.0 in c:\\users\\hamza\\pycharmprojects\\nn_project\\.venv\\lib\\site-packages (from tensorflow) (3.13.0)\n",
      "Requirement already satisfied: ml-dtypes<1.0.0,>=0.5.1 in c:\\users\\hamza\\pycharmprojects\\nn_project\\.venv\\lib\\site-packages (from tensorflow) (0.5.1)\n",
      "Requirement already satisfied: wheel<1.0,>=0.23.0 in c:\\users\\hamza\\pycharmprojects\\nn_project\\.venv\\lib\\site-packages (from astunparse>=1.6.0->tensorflow) (0.45.1)\n",
      "Requirement already satisfied: rich in c:\\users\\hamza\\pycharmprojects\\nn_project\\.venv\\lib\\site-packages (from keras>=3.5.0->tensorflow) (13.9.4)\n",
      "Requirement already satisfied: namex in c:\\users\\hamza\\pycharmprojects\\nn_project\\.venv\\lib\\site-packages (from keras>=3.5.0->tensorflow) (0.0.8)\n",
      "Requirement already satisfied: optree in c:\\users\\hamza\\pycharmprojects\\nn_project\\.venv\\lib\\site-packages (from keras>=3.5.0->tensorflow) (0.14.1)\n",
      "Requirement already satisfied: charset-normalizer<4,>=2 in c:\\users\\hamza\\pycharmprojects\\nn_project\\.venv\\lib\\site-packages (from requests<3,>=2.21.0->tensorflow) (3.4.1)\n",
      "Requirement already satisfied: idna<4,>=2.5 in c:\\users\\hamza\\pycharmprojects\\nn_project\\.venv\\lib\\site-packages (from requests<3,>=2.21.0->tensorflow) (3.10)\n",
      "Requirement already satisfied: urllib3<3,>=1.21.1 in c:\\users\\hamza\\pycharmprojects\\nn_project\\.venv\\lib\\site-packages (from requests<3,>=2.21.0->tensorflow) (2.3.0)\n",
      "Requirement already satisfied: certifi>=2017.4.17 in c:\\users\\hamza\\pycharmprojects\\nn_project\\.venv\\lib\\site-packages (from requests<3,>=2.21.0->tensorflow) (2025.1.31)\n",
      "Requirement already satisfied: markdown>=2.6.8 in c:\\users\\hamza\\pycharmprojects\\nn_project\\.venv\\lib\\site-packages (from tensorboard~=2.19.0->tensorflow) (3.7)\n",
      "Requirement already satisfied: tensorboard-data-server<0.8.0,>=0.7.0 in c:\\users\\hamza\\pycharmprojects\\nn_project\\.venv\\lib\\site-packages (from tensorboard~=2.19.0->tensorflow) (0.7.2)\n",
      "Requirement already satisfied: werkzeug>=1.0.1 in c:\\users\\hamza\\pycharmprojects\\nn_project\\.venv\\lib\\site-packages (from tensorboard~=2.19.0->tensorflow) (3.1.3)\n",
      "Requirement already satisfied: MarkupSafe>=2.1.1 in c:\\users\\hamza\\pycharmprojects\\nn_project\\.venv\\lib\\site-packages (from werkzeug>=1.0.1->tensorboard~=2.19.0->tensorflow) (3.0.2)\n",
      "Requirement already satisfied: markdown-it-py>=2.2.0 in c:\\users\\hamza\\pycharmprojects\\nn_project\\.venv\\lib\\site-packages (from rich->keras>=3.5.0->tensorflow) (3.0.0)\n",
      "Requirement already satisfied: pygments<3.0.0,>=2.13.0 in c:\\users\\hamza\\pycharmprojects\\nn_project\\.venv\\lib\\site-packages (from rich->keras>=3.5.0->tensorflow) (2.19.1)\n",
      "Requirement already satisfied: mdurl~=0.1 in c:\\users\\hamza\\pycharmprojects\\nn_project\\.venv\\lib\\site-packages (from markdown-it-py>=2.2.0->rich->keras>=3.5.0->tensorflow) (0.1.2)\n"
     ]
    },
    {
     "name": "stderr",
     "output_type": "stream",
     "text": [
      "\n",
      "[notice] A new release of pip is available: 23.2.1 -> 25.0.1\n",
      "[notice] To update, run: python.exe -m pip install --upgrade pip\n"
     ]
    }
   ],
   "execution_count": 2
  },
  {
   "cell_type": "code",
   "id": "fcc0dd5b49a71bc8",
   "metadata": {
    "ExecuteTime": {
     "end_time": "2025-04-15T10:35:54.016705Z",
     "start_time": "2025-04-15T10:35:53.924165Z"
    }
   },
   "source": [
    "import cv2\n"
   ],
   "outputs": [],
   "execution_count": 3
  },
  {
   "cell_type": "code",
   "id": "6dd1207f",
   "metadata": {
    "execution": {
     "iopub.execute_input": "2025-03-11T20:07:37.577839Z",
     "iopub.status.busy": "2025-03-11T20:07:37.577395Z",
     "iopub.status.idle": "2025-03-11T20:07:50.418369Z",
     "shell.execute_reply": "2025-03-11T20:07:50.417702Z"
    },
    "papermill": {
     "duration": 12.859048,
     "end_time": "2025-03-11T20:07:50.419932",
     "exception": false,
     "start_time": "2025-03-11T20:07:37.560884",
     "status": "completed"
    },
    "tags": [],
    "ExecuteTime": {
     "end_time": "2025-04-15T10:36:16.350994Z",
     "start_time": "2025-04-15T10:35:56.558397Z"
    }
   },
   "source": [
    "import tensorflow as tf\n",
    "\n",
    "from tensorflow.keras.models import Sequential\n",
    "from tensorflow.keras.layers import Conv2D, MaxPooling2D, Flatten, Dense, Dropout, BatchNormalization\n",
    "from tensorflow.keras.optimizers import Adam, SGD\n",
    "from tensorflow.keras.preprocessing.image import ImageDataGenerator\n",
    "from tensorflow.keras.initializers import HeUniform, GlorotUniform\n",
    "from sklearn.preprocessing import StandardScaler\n",
    "import numpy as npa\n",
    "import matplotlib.pyplot as plt\n",
    "import pandas as pd\n",
    "import os\n",
    "import random\n",
    "from sklearn.model_selection import train_test_split\n",
    "from sklearn.metrics import classification_report, confusion_matrix , accuracy_score\n",
    "from sklearn.preprocessing import LabelEncoder\n",
    "from tensorflow.keras.models import load_model\n",
    "from tensorflow.keras.layers import GlobalAveragePooling2D, LeakyReLU\n",
    "from tensorflow.keras.callbacks import EarlyStopping, ReduceLROnPlateau, ModelCheckpoint\n",
    "from tensorflow.keras.utils import to_categorical\n",
    "from tensorflow.keras import losses\n",
    "from sklearn.metrics import classification_report\n",
    "from tensorflow.keras.preprocessing.image import ImageDataGenerator\n",
    "\n"
   ],
   "outputs": [],
   "execution_count": 4
  },
  {
   "cell_type": "markdown",
   "id": "5af2d1b1",
   "metadata": {
    "papermill": {
     "duration": 0.015599,
     "end_time": "2025-03-11T20:07:50.452302",
     "exception": false,
     "start_time": "2025-03-11T20:07:50.436703",
     "status": "completed"
    },
    "tags": []
   },
   "source": [
    "### 📌 1. Path Identification"
   ]
  },
  {
   "cell_type": "code",
   "id": "ecb836cc",
   "metadata": {
    "execution": {
     "iopub.execute_input": "2025-03-11T20:07:50.485293Z",
     "iopub.status.busy": "2025-03-11T20:07:50.484768Z",
     "iopub.status.idle": "2025-03-11T20:07:50.488520Z",
     "shell.execute_reply": "2025-03-11T20:07:50.487891Z"
    },
    "papermill": {
     "duration": 0.021388,
     "end_time": "2025-03-11T20:07:50.489741",
     "exception": false,
     "start_time": "2025-03-11T20:07:50.468353",
     "status": "completed"
    },
    "tags": [],
    "ExecuteTime": {
     "end_time": "2025-04-15T10:39:13.967677Z",
     "start_time": "2025-04-15T10:39:13.963197Z"
    }
   },
   "source": [
    "import pathlib\n",
    "data_dir = pathlib.Path(\"..\") / \"brain-tumor-mri-dataset\"\n",
    "train_dir = data_dir / \"Training\"\n",
    "test_dir = data_dir / \"Testing\"\n"
   ],
   "outputs": [],
   "execution_count": 13
  },
  {
   "cell_type": "markdown",
   "id": "74a4e0be",
   "metadata": {
    "papermill": {
     "duration": 0.015394,
     "end_time": "2025-03-11T20:07:50.520770",
     "exception": false,
     "start_time": "2025-03-11T20:07:50.505376",
     "status": "completed"
    },
    "tags": []
   },
   "source": [
    "### 📌 2. Data Preprocessing with ImageDataGenerator"
   ]
  },
  {
   "cell_type": "code",
   "id": "c4d41273",
   "metadata": {
    "execution": {
     "iopub.execute_input": "2025-03-11T20:07:50.552573Z",
     "iopub.status.busy": "2025-03-11T20:07:50.552364Z",
     "iopub.status.idle": "2025-03-11T20:07:50.555359Z",
     "shell.execute_reply": "2025-03-11T20:07:50.554771Z"
    },
    "papermill": {
     "duration": 0.020255,
     "end_time": "2025-03-11T20:07:50.556546",
     "exception": false,
     "start_time": "2025-03-11T20:07:50.536291",
     "status": "completed"
    },
    "tags": [],
    "ExecuteTime": {
     "end_time": "2025-04-15T10:36:24.875611Z",
     "start_time": "2025-04-15T10:36:24.867678Z"
    }
   },
   "source": [
    "train_datagen = ImageDataGenerator(rescale=1./255)\n",
    "test_datagen = ImageDataGenerator(rescale=1./255)"
   ],
   "outputs": [],
   "execution_count": 6
  },
  {
   "cell_type": "markdown",
   "id": "f7ac8b7d",
   "metadata": {
    "papermill": {
     "duration": 0.015393,
     "end_time": "2025-03-11T20:07:50.588410",
     "exception": false,
     "start_time": "2025-03-11T20:07:50.573017",
     "status": "completed"
    },
    "tags": []
   },
   "source": [
    "### 📌 3. Defining Train & Test Folders"
   ]
  },
  {
   "cell_type": "code",
   "id": "66bec4ef",
   "metadata": {
    "execution": {
     "iopub.execute_input": "2025-03-11T20:07:50.619943Z",
     "iopub.status.busy": "2025-03-11T20:07:50.619707Z",
     "iopub.status.idle": "2025-03-11T20:07:50.622672Z",
     "shell.execute_reply": "2025-03-11T20:07:50.622103Z"
    },
    "papermill": {
     "duration": 0.020115,
     "end_time": "2025-03-11T20:07:50.623918",
     "exception": false,
     "start_time": "2025-03-11T20:07:50.603803",
     "status": "completed"
    },
    "tags": [],
    "ExecuteTime": {
     "end_time": "2025-04-15T10:37:12.578200Z",
     "start_time": "2025-04-15T10:37:12.570670Z"
    }
   },
   "source": [
    "train_dir = str(data_dir / \"Training\") \n",
    "test_dir = str(data_dir / \"Testing\")    "
   ],
   "outputs": [],
   "execution_count": 11
  },
  {
   "cell_type": "markdown",
   "id": "c5081c0f",
   "metadata": {
    "execution": {
     "iopub.execute_input": "2025-03-11T19:51:51.391749Z",
     "iopub.status.busy": "2025-03-11T19:51:51.391404Z",
     "iopub.status.idle": "2025-03-11T19:51:51.395830Z",
     "shell.execute_reply": "2025-03-11T19:51:51.394680Z",
     "shell.execute_reply.started": "2025-03-11T19:51:51.391725Z"
    },
    "papermill": {
     "duration": 0.01523,
     "end_time": "2025-03-11T20:07:50.654726",
     "exception": false,
     "start_time": "2025-03-11T20:07:50.639496",
     "status": "completed"
    },
    "tags": []
   },
   "source": [
    "### 📌 4. Define Image Size & Batch Size for Model"
   ]
  },
  {
   "cell_type": "code",
   "id": "0ae70264",
   "metadata": {
    "execution": {
     "iopub.execute_input": "2025-03-11T20:07:50.686728Z",
     "iopub.status.busy": "2025-03-11T20:07:50.686453Z",
     "iopub.status.idle": "2025-03-11T20:07:50.689587Z",
     "shell.execute_reply": "2025-03-11T20:07:50.688968Z"
    },
    "papermill": {
     "duration": 0.020511,
     "end_time": "2025-03-11T20:07:50.690776",
     "exception": false,
     "start_time": "2025-03-11T20:07:50.670265",
     "status": "completed"
    },
    "tags": [],
    "ExecuteTime": {
     "end_time": "2025-04-15T10:36:33.125882Z",
     "start_time": "2025-04-15T10:36:33.117939Z"
    }
   },
   "source": [
    "batch_size = 32\n",
    "img_height = 240\n",
    "img_width = 240"
   ],
   "outputs": [],
   "execution_count": 8
  },
  {
   "cell_type": "markdown",
   "id": "529ded36",
   "metadata": {
    "papermill": {
     "duration": 0.015355,
     "end_time": "2025-03-11T20:07:50.722007",
     "exception": false,
     "start_time": "2025-03-11T20:07:50.706652",
     "status": "completed"
    },
    "tags": []
   },
   "source": [
    "### 📌 5. Loading Training and Test Datasets"
   ]
  },
  {
   "cell_type": "code",
   "id": "52441859",
   "metadata": {
    "execution": {
     "iopub.execute_input": "2025-03-11T20:07:50.753670Z",
     "iopub.status.busy": "2025-03-11T20:07:50.753451Z",
     "iopub.status.idle": "2025-03-11T20:07:53.919591Z",
     "shell.execute_reply": "2025-03-11T20:07:53.918780Z"
    },
    "papermill": {
     "duration": 3.183434,
     "end_time": "2025-03-11T20:07:53.920809",
     "exception": false,
     "start_time": "2025-03-11T20:07:50.737375",
     "status": "completed"
    },
    "tags": [],
    "ExecuteTime": {
     "end_time": "2025-04-15T10:39:17.815392Z",
     "start_time": "2025-04-15T10:39:17.540774Z"
    }
   },
   "source": [
    "train_generator = train_datagen.flow_from_directory(\n",
    "    train_dir,\n",
    "    target_size = (img_height , img_width),\n",
    "    batch_size= batch_size,\n",
    "    class_mode = \"categorical\"\n",
    "    )\n",
    "\n",
    "test_generator = test_datagen.flow_from_directory(\n",
    "    test_dir,\n",
    "    target_size = (img_height , img_width),\n",
    "    batch_size = batch_size,\n",
    "    class_mode = \"categorical\"\n",
    "\n",
    "    )\n",
    "\n",
    "print(r\"Class Label :\" , train_generator.class_indices)\n"
   ],
   "outputs": [
    {
     "name": "stdout",
     "output_type": "stream",
     "text": [
      "Found 5712 images belonging to 4 classes.\n",
      "Found 1311 images belonging to 4 classes.\n",
      "Class Label : {'glioma': 0, 'meningioma': 1, 'notumor': 2, 'pituitary': 3}\n"
     ]
    }
   ],
   "execution_count": 14
  },
  {
   "cell_type": "markdown",
   "id": "e495df73",
   "metadata": {
    "execution": {
     "iopub.execute_input": "2025-03-11T19:53:03.702031Z",
     "iopub.status.busy": "2025-03-11T19:53:03.701581Z",
     "iopub.status.idle": "2025-03-11T19:53:03.706619Z",
     "shell.execute_reply": "2025-03-11T19:53:03.705461Z",
     "shell.execute_reply.started": "2025-03-11T19:53:03.701991Z"
    },
    "papermill": {
     "duration": 0.015379,
     "end_time": "2025-03-11T20:07:53.953142",
     "exception": false,
     "start_time": "2025-03-11T20:07:53.937763",
     "status": "completed"
    },
    "tags": []
   },
   "source": [
    "### DATA PREPROCESSING SUMMARY\n",
    "\n",
    "🚀 What Does the Code Do in Brief?\n",
    "\n",
    "* Determines the dataset folder (data_dir).\n",
    "\n",
    "* Creates an ImageDataGenerator to rescale the images.\n",
    "\n",
    "* Determines the training (train_dir) and test (test_dir) data paths.\n",
    "\n",
    "* Resize the images to 240x240 and load them with flow_from_directory().\n",
    "\n",
    "* Prints the class labels."
   ]
  },
  {
   "cell_type": "markdown",
   "id": "9e4a1952",
   "metadata": {
    "execution": {
     "iopub.execute_input": "2025-03-11T19:55:38.991459Z",
     "iopub.status.busy": "2025-03-11T19:55:38.991082Z",
     "iopub.status.idle": "2025-03-11T19:55:38.995481Z",
     "shell.execute_reply": "2025-03-11T19:55:38.994344Z",
     "shell.execute_reply.started": "2025-03-11T19:55:38.991432Z"
    },
    "papermill": {
     "duration": 0.019286,
     "end_time": "2025-03-11T20:07:54.968671",
     "exception": false,
     "start_time": "2025-03-11T20:07:54.949385",
     "status": "completed"
    },
    "tags": []
   },
   "source": [
    "### 📌 6.LET'S DEVELOP THE MODEL"
   ]
  },
  {
   "cell_type": "code",
   "id": "3c1b9dec",
   "metadata": {
    "execution": {
     "iopub.execute_input": "2025-03-11T20:07:55.007791Z",
     "iopub.status.busy": "2025-03-11T20:07:55.007462Z",
     "iopub.status.idle": "2025-03-11T20:07:55.011406Z",
     "shell.execute_reply": "2025-03-11T20:07:55.010747Z"
    },
    "papermill": {
     "duration": 0.025315,
     "end_time": "2025-03-11T20:07:55.012700",
     "exception": false,
     "start_time": "2025-03-11T20:07:54.987385",
     "status": "completed"
    },
    "tags": [],
    "ExecuteTime": {
     "end_time": "2025-04-15T10:39:26.345164Z",
     "start_time": "2025-04-15T10:39:26.336220Z"
    }
   },
   "source": [
    "\n",
    "train_datagen = ImageDataGenerator(\n",
    "    rescale=1./255,\n",
    "    rotation_range=40,          \n",
    "    width_shift_range=0.2,     \n",
    "    height_shift_range=0.2,    \n",
    "    shear_range=0.2,           \n",
    "    zoom_range=0.2,             \n",
    "    horizontal_flip=True,       \n",
    "    fill_mode='nearest'       \n",
    ")\n",
    "\n",
    "test_datagen = ImageDataGenerator(rescale=1./255)\n"
   ],
   "outputs": [],
   "execution_count": 15
  },
  {
   "cell_type": "code",
   "id": "3aa6b440",
   "metadata": {
    "execution": {
     "iopub.execute_input": "2025-03-11T20:07:55.053485Z",
     "iopub.status.busy": "2025-03-11T20:07:55.053275Z",
     "iopub.status.idle": "2025-03-11T20:07:55.906087Z",
     "shell.execute_reply": "2025-03-11T20:07:55.905338Z"
    },
    "papermill": {
     "duration": 0.874659,
     "end_time": "2025-03-11T20:07:55.907662",
     "exception": false,
     "start_time": "2025-03-11T20:07:55.033003",
     "status": "completed"
    },
    "tags": [],
    "ExecuteTime": {
     "end_time": "2025-04-15T10:39:28.175160Z",
     "start_time": "2025-04-15T10:39:28.039074Z"
    }
   },
   "source": [
    "model = Sequential([\n",
    "    Conv2D(32 , (5,5) , activation=\"relu\" ,padding=\"valid\", kernel_initializer=HeUniform()),\n",
    "    MaxPooling2D(2,2),\n",
    "    BatchNormalization(),\n",
    "\n",
    "    Conv2D(64 , (5,5) , activation=\"relu\" ,padding=\"valid\", kernel_initializer=HeUniform()),\n",
    "    MaxPooling2D(2,2),\n",
    "    BatchNormalization(),\n",
    "\n",
    "    Conv2D(128 , (5,5) , activation=\"relu\" ,padding=\"valid\", kernel_initializer=HeUniform()),\n",
    "    MaxPooling2D(2,2),\n",
    "    BatchNormalization(),\n",
    "\n",
    "    Flatten(),\n",
    "\n",
    "    Dense(64 , activation=\"relu\" , kernel_initializer=HeUniform()),\n",
    "    Dropout(0.2),\n",
    "    BatchNormalization(),\n",
    "    Dense(128 , activation=\"relu\" , kernel_initializer=HeUniform()),\n",
    "    Dropout(0.2),\n",
    "    BatchNormalization(),\n",
    "    Dense(256 , activation=\"relu\" , kernel_initializer=HeUniform()),\n",
    "    Dropout(0.3),\n",
    "    BatchNormalization(),\n",
    "\n",
    "    Dense(4 , activation=\"softmax\" , kernel_initializer=GlorotUniform()),\n",
    "\n",
    "    ])"
   ],
   "outputs": [],
   "execution_count": 16
  },
  {
   "cell_type": "code",
   "id": "814d8419",
   "metadata": {
    "execution": {
     "iopub.execute_input": "2025-03-11T20:07:55.953320Z",
     "iopub.status.busy": "2025-03-11T20:07:55.953048Z",
     "iopub.status.idle": "2025-03-11T20:07:55.974166Z",
     "shell.execute_reply": "2025-03-11T20:07:55.973071Z"
    },
    "papermill": {
     "duration": 0.047849,
     "end_time": "2025-03-11T20:07:55.976282",
     "exception": false,
     "start_time": "2025-03-11T20:07:55.928433",
     "status": "completed"
    },
    "tags": [],
    "ExecuteTime": {
     "end_time": "2025-04-15T10:39:30.202026Z",
     "start_time": "2025-04-15T10:39:30.174041Z"
    }
   },
   "source": [
    "model.compile(optimizer=Adam(learning_rate=0.0001) , loss=\"categorical_crossentropy\", metrics=[\"accuracy\"])"
   ],
   "outputs": [],
   "execution_count": 17
  },
  {
   "cell_type": "code",
   "id": "81c48c70",
   "metadata": {
    "execution": {
     "iopub.execute_input": "2025-03-11T20:07:56.026176Z",
     "iopub.status.busy": "2025-03-11T20:07:56.025901Z",
     "iopub.status.idle": "2025-03-11T20:11:38.858039Z",
     "shell.execute_reply": "2025-03-11T20:11:38.857124Z"
    },
    "papermill": {
     "duration": 222.913538,
     "end_time": "2025-03-11T20:11:38.914901",
     "exception": false,
     "start_time": "2025-03-11T20:07:56.001363",
     "status": "completed"
    },
    "tags": [],
    "ExecuteTime": {
     "end_time": "2025-04-15T14:45:20.798842Z",
     "start_time": "2025-04-15T14:10:18.760550Z"
    }
   },
   "source": [
    "early_stop = EarlyStopping(patience=3,monitor=\"val_loss\", restore_best_weights=True)\n",
    "\n",
    "fit = model.fit(train_generator,epochs=10 #(epoch count is reduced due to process length.)\n",
    ", validation_data=(test_generator) , callbacks=[early_stop])"
   ],
   "outputs": [
    {
     "name": "stdout",
     "output_type": "stream",
     "text": [
      "Epoch 1/10\n",
      "\u001B[1m179/179\u001B[0m \u001B[32m━━━━━━━━━━━━━━━━━━━━\u001B[0m\u001B[37m\u001B[0m \u001B[1m239s\u001B[0m 1s/step - accuracy: 0.9633 - loss: 0.1238 - val_accuracy: 0.9268 - val_loss: 0.2281\n",
      "Epoch 2/10\n",
      "\u001B[1m179/179\u001B[0m \u001B[32m━━━━━━━━━━━━━━━━━━━━\u001B[0m\u001B[37m\u001B[0m \u001B[1m288s\u001B[0m 2s/step - accuracy: 0.9701 - loss: 0.0917 - val_accuracy: 0.9283 - val_loss: 0.2192\n",
      "Epoch 3/10\n",
      "\u001B[1m179/179\u001B[0m \u001B[32m━━━━━━━━━━━━━━━━━━━━\u001B[0m\u001B[37m\u001B[0m \u001B[1m314s\u001B[0m 2s/step - accuracy: 0.9645 - loss: 0.0979 - val_accuracy: 0.9504 - val_loss: 0.1462\n",
      "Epoch 4/10\n",
      "\u001B[1m179/179\u001B[0m \u001B[32m━━━━━━━━━━━━━━━━━━━━\u001B[0m\u001B[37m\u001B[0m \u001B[1m311s\u001B[0m 2s/step - accuracy: 0.9777 - loss: 0.0707 - val_accuracy: 0.9588 - val_loss: 0.1391\n",
      "Epoch 5/10\n",
      "\u001B[1m179/179\u001B[0m \u001B[32m━━━━━━━━━━━━━━━━━━━━\u001B[0m\u001B[37m\u001B[0m \u001B[1m315s\u001B[0m 2s/step - accuracy: 0.9794 - loss: 0.0625 - val_accuracy: 0.9603 - val_loss: 0.1392\n",
      "Epoch 6/10\n",
      "\u001B[1m179/179\u001B[0m \u001B[32m━━━━━━━━━━━━━━━━━━━━\u001B[0m\u001B[37m\u001B[0m \u001B[1m318s\u001B[0m 2s/step - accuracy: 0.9877 - loss: 0.0426 - val_accuracy: 0.9481 - val_loss: 0.1904\n",
      "Epoch 7/10\n",
      "\u001B[1m179/179\u001B[0m \u001B[32m━━━━━━━━━━━━━━━━━━━━\u001B[0m\u001B[37m\u001B[0m \u001B[1m317s\u001B[0m 2s/step - accuracy: 0.9840 - loss: 0.0603 - val_accuracy: 0.9344 - val_loss: 0.2256\n"
     ]
    }
   ],
   "execution_count": 22
  },
  {
   "cell_type": "code",
   "id": "8baeec065aa2b3d7",
   "metadata": {
    "ExecuteTime": {
     "end_time": "2025-04-15T14:46:22.317026Z",
     "start_time": "2025-04-15T14:46:21.601033Z"
    }
   },
   "source": [
    "model.save(\"brain_tumor_model.keras\")\n"
   ],
   "outputs": [],
   "execution_count": 23
  },
  {
   "cell_type": "code",
   "id": "a80bc41e28e55f4d",
   "metadata": {
    "ExecuteTime": {
     "end_time": "2025-04-15T14:46:27.422960Z",
     "start_time": "2025-04-15T14:46:26.676341Z"
    }
   },
   "source": [
    "model = tf.keras.models.load_model(\"brain_tumor_model.keras\")\n"
   ],
   "outputs": [],
   "execution_count": 24
  },
  {
   "cell_type": "code",
   "execution_count": null,
   "id": "75d924de9f93ae7a",
   "metadata": {},
   "outputs": [],
   "source": [
    "### LET'S TEST ON INPUT IMAGE "
   ]
  },
  {
   "cell_type": "code",
   "id": "db9049aa6163fede",
   "metadata": {
    "ExecuteTime": {
     "end_time": "2025-04-15T14:46:30.526030Z",
     "start_time": "2025-04-15T14:46:30.379412Z"
    }
   },
   "source": [
    "def predict_image(image_path, model):\n",
    "    img = cv2.imread(image_path)  # Image loading\n",
    "    img = cv2.cvtColor(img, cv2.COLOR_BGR2RGB)  # Change image color to rgb\n",
    "    img = cv2.resize(img, (240, 240))  # Change the size of image to fit the model\n",
    "    img = img / 255.0  # Normalise\n",
    "    img = npa.expand_dims(img, axis=0) \n",
    "\n",
    "    prediction = model.predict(img)  # Predict image \n",
    "    predicted_class = npa.argmax(prediction)  # Get predicted image class - from 0 to 3\n",
    "\n",
    "    class_labels = {0: \"Glioma\", 1: \"Meningioma\", 2: \"No Tumor\", 3: \"Pituitary Tumor\"}\n",
    "    return class_labels[predicted_class]  # Get the name of LABEL \n",
    "\n",
    "image_path = \"brain-tumor-mri-dataset/test-glioma.jpg\"  \n",
    "result = predict_image(image_path, model) # func call\n",
    "print(f\"Предсказанный класс: {result}\")\n"
   ],
   "outputs": [
    {
     "ename": "error",
     "evalue": "OpenCV(4.11.0) D:\\a\\opencv-python\\opencv-python\\opencv\\modules\\imgproc\\src\\color.cpp:199: error: (-215:Assertion failed) !_src.empty() in function 'cv::cvtColor'\n",
     "output_type": "error",
     "traceback": [
      "\u001B[31m---------------------------------------------------------------------------\u001B[39m",
      "\u001B[31merror\u001B[39m                                     Traceback (most recent call last)",
      "\u001B[36mCell\u001B[39m\u001B[36m \u001B[39m\u001B[32mIn[25]\u001B[39m\u001B[32m, line 15\u001B[39m\n\u001B[32m     12\u001B[39m     \u001B[38;5;28;01mreturn\u001B[39;00m class_labels[predicted_class]  \u001B[38;5;66;03m# Get the name of LABEL \u001B[39;00m\n\u001B[32m     14\u001B[39m image_path = \u001B[33m\"\u001B[39m\u001B[33mbrain-tumor-mri-dataset/test-glioma.jpg\u001B[39m\u001B[33m\"\u001B[39m  \n\u001B[32m---> \u001B[39m\u001B[32m15\u001B[39m result = \u001B[43mpredict_image\u001B[49m\u001B[43m(\u001B[49m\u001B[43mimage_path\u001B[49m\u001B[43m,\u001B[49m\u001B[43m \u001B[49m\u001B[43mmodel\u001B[49m\u001B[43m)\u001B[49m \u001B[38;5;66;03m# func call\u001B[39;00m\n\u001B[32m     16\u001B[39m \u001B[38;5;28mprint\u001B[39m(\u001B[33mf\u001B[39m\u001B[33m\"\u001B[39m\u001B[33mПредсказанный класс: \u001B[39m\u001B[38;5;132;01m{\u001B[39;00mresult\u001B[38;5;132;01m}\u001B[39;00m\u001B[33m\"\u001B[39m)\n",
      "\u001B[36mCell\u001B[39m\u001B[36m \u001B[39m\u001B[32mIn[25]\u001B[39m\u001B[32m, line 3\u001B[39m, in \u001B[36mpredict_image\u001B[39m\u001B[34m(image_path, model)\u001B[39m\n\u001B[32m      1\u001B[39m \u001B[38;5;28;01mdef\u001B[39;00m\u001B[38;5;250m \u001B[39m\u001B[34mpredict_image\u001B[39m(image_path, model):\n\u001B[32m      2\u001B[39m     img = cv2.imread(image_path)  \u001B[38;5;66;03m# Image loading\u001B[39;00m\n\u001B[32m----> \u001B[39m\u001B[32m3\u001B[39m     img = \u001B[43mcv2\u001B[49m\u001B[43m.\u001B[49m\u001B[43mcvtColor\u001B[49m\u001B[43m(\u001B[49m\u001B[43mimg\u001B[49m\u001B[43m,\u001B[49m\u001B[43m \u001B[49m\u001B[43mcv2\u001B[49m\u001B[43m.\u001B[49m\u001B[43mCOLOR_BGR2RGB\u001B[49m\u001B[43m)\u001B[49m  \u001B[38;5;66;03m# Change image color to rgb\u001B[39;00m\n\u001B[32m      4\u001B[39m     img = cv2.resize(img, (\u001B[32m240\u001B[39m, \u001B[32m240\u001B[39m))  \u001B[38;5;66;03m# Change the size of image to fit the model\u001B[39;00m\n\u001B[32m      5\u001B[39m     img = img / \u001B[32m255.0\u001B[39m  \u001B[38;5;66;03m# Normalise\u001B[39;00m\n",
      "\u001B[31merror\u001B[39m: OpenCV(4.11.0) D:\\a\\opencv-python\\opencv-python\\opencv\\modules\\imgproc\\src\\color.cpp:199: error: (-215:Assertion failed) !_src.empty() in function 'cv::cvtColor'\n"
     ]
    }
   ],
   "execution_count": 25
  },
  {
   "cell_type": "markdown",
   "id": "79945b03",
   "metadata": {
    "papermill": {
     "duration": 0.092607,
     "end_time": "2025-03-11T20:11:42.127627",
     "exception": false,
     "start_time": "2025-03-11T20:11:42.035020",
     "status": "completed"
    },
    "tags": []
   },
   "source": [
    "# LET'S EVALUATE THE MODEL"
   ]
  },
  {
   "cell_type": "code",
   "id": "3d9b65a1",
   "metadata": {
    "execution": {
     "iopub.execute_input": "2025-03-11T20:11:42.313376Z",
     "iopub.status.busy": "2025-03-11T20:11:42.313089Z",
     "iopub.status.idle": "2025-03-11T20:11:42.943402Z",
     "shell.execute_reply": "2025-03-11T20:11:42.942424Z"
    },
    "papermill": {
     "duration": 0.723648,
     "end_time": "2025-03-11T20:11:42.944716",
     "exception": false,
     "start_time": "2025-03-11T20:11:42.221068",
     "status": "completed"
    },
    "tags": [],
    "ExecuteTime": {
     "end_time": "2025-04-15T14:46:44.242167Z",
     "start_time": "2025-04-15T14:46:43.389379Z"
    }
   },
   "source": [
    "\n",
    "from sklearn.metrics import precision_score, recall_score, f1_score\n",
    "\n",
    "x_test, y_test = next(test_generator)  \n",
    "\n",
    "\n",
    "predictions = model.predict(x_test)\n",
    "\n",
    "\n",
    "predicted_classes = np.argmax(predictions, axis=1)\n",
    "true_classes = np.argmax(y_test, axis=1)\n",
    "\n",
    "print(f\"Accuracy: { accuracy_score(true_classes, predicted_classes) * 100:.2f}%\")\n",
    "print(f\"Precision: {precision_score(true_classes, predicted_classes, average='weighted') * 100:.2f}%\")\n",
    "print(f\"Recall: {recall_score(true_classes, predicted_classes, average='weighted') * 100:.2f}%\")\n",
    "print(f\"F1 Score: {f1_score(true_classes, predicted_classes, average='weighted') * 100:.2f}%\")\n",
    "print(\"Confusion Matrix:\")\n",
    "print(confusion_matrix(true_classes, predicted_classes))\n"
   ],
   "outputs": [
    {
     "name": "stdout",
     "output_type": "stream",
     "text": [
      "\u001B[1m1/1\u001B[0m \u001B[32m━━━━━━━━━━━━━━━━━━━━\u001B[0m\u001B[37m\u001B[0m \u001B[1m1s\u001B[0m 693ms/step\n",
      "Accuracy: 96.88%\n",
      "Precision: 97.22%\n",
      "Recall: 96.88%\n",
      "F1 Score: 96.82%\n",
      "Confusion Matrix:\n",
      "[[ 5  1  0  0]\n",
      " [ 0  8  0  0]\n",
      " [ 0  0  8  0]\n",
      " [ 0  0  0 10]]\n"
     ]
    }
   ],
   "execution_count": 26
  },
  {
   "cell_type": "markdown",
   "id": "673bc71f",
   "metadata": {
    "papermill": {
     "duration": 0.093112,
     "end_time": "2025-03-11T20:11:43.130828",
     "exception": false,
     "start_time": "2025-03-11T20:11:43.037716",
     "status": "completed"
    },
    "tags": []
   },
   "source": [
    "* If you get an error, you can check the code below."
   ]
  },
  {
   "cell_type": "code",
   "execution_count": 16,
   "id": "85703253",
   "metadata": {
    "execution": {
     "iopub.execute_input": "2025-03-11T20:11:43.316707Z",
     "iopub.status.busy": "2025-03-11T20:11:43.316382Z",
     "iopub.status.idle": "2025-03-11T20:11:43.321193Z",
     "shell.execute_reply": "2025-03-11T20:11:43.320401Z"
    },
    "papermill": {
     "duration": 0.099042,
     "end_time": "2025-03-11T20:11:43.322486",
     "exception": false,
     "start_time": "2025-03-11T20:11:43.223444",
     "status": "completed"
    },
    "tags": []
   },
   "outputs": [
    {
     "data": {
      "text/plain": [
       "'\\n\\nall_predictions = []\\nall_true_classes = []\\n\\n\\nfor x_batch, y_batch in test_generator:\\n    predictions = model.predict(x_batch)\\n    predicted_classes = np.argmax(predictions, axis=1)\\n    true_classes = np.argmax(y_batch, axis=1)\\n    \\n\\n    all_predictions.extend(predicted_classes)\\n    all_true_classes.extend(true_classes)\\n\\n\\nprint(\"Accuracy:\", accuracy_score(all_true_classes, all_predictions))\\nprint(\"Classification Report:\")\\n\\nprint(classification_report(all_true_classes, all_predictions))\\n\\nprint(\"Confusion Matrix:\")\\nprint(confusion_matrix(all_true_classes, all_predictions))\\n\\n\\n'"
      ]
     },
     "execution_count": 16,
     "metadata": {},
     "output_type": "execute_result"
    }
   ],
   "source": [
    "\n",
    "'''\n",
    "\n",
    "all_predictions = []\n",
    "all_true_classes = []\n",
    "\n",
    "\n",
    "for x_batch, y_batch in test_generator:\n",
    "    predictions = model.predict(x_batch)\n",
    "    predicted_classes = np.argmax(predictions, axis=1)\n",
    "    true_classes = np.argmax(y_batch, axis=1)\n",
    "    \n",
    "\n",
    "    all_predictions.extend(predicted_classes)\n",
    "    all_true_classes.extend(true_classes)\n",
    "\n",
    "\n",
    "print(\"Accuracy:\", accuracy_score(all_true_classes, all_predictions))\n",
    "print(\"Classification Report:\")\n",
    "\n",
    "print(classification_report(all_true_classes, all_predictions))\n",
    "\n",
    "print(\"Confusion Matrix:\")\n",
    "print(confusion_matrix(all_true_classes, all_predictions))\n",
    "\n",
    "\n",
    "'''\n",
    "\n"
   ]
  },
  {
   "cell_type": "markdown",
   "id": "03318a95",
   "metadata": {
    "papermill": {
     "duration": 0.093306,
     "end_time": "2025-03-11T20:11:43.507306",
     "exception": false,
     "start_time": "2025-03-11T20:11:43.414000",
     "status": "completed"
    },
    "tags": []
   },
   "source": [
    "### I hope it was useful for you."
   ]
  }
 ],
 "metadata": {
  "kaggle": {
   "accelerator": "gpu",
   "dataSources": [
    {
     "datasetId": 1608934,
     "sourceId": 2645886,
     "sourceType": "datasetVersion"
    }
   ],
   "dockerImageVersionId": 30919,
   "isGpuEnabled": true,
   "isInternetEnabled": true,
   "language": "python",
   "sourceType": "notebook"
  },
  "kernelspec": {
   "display_name": "Python 3",
   "language": "python",
   "name": "python3"
  },
  "language_info": {
   "codemirror_mode": {
    "name": "ipython",
    "version": 3
   },
   "file_extension": ".py",
   "mimetype": "text/x-python",
   "name": "python",
   "nbconvert_exporter": "python",
   "pygments_lexer": "ipython3",
   "version": "3.12.6"
  },
  "papermill": {
   "default_parameters": {},
   "duration": 265.982137,
   "end_time": "2025-03-11T20:11:46.203419",
   "environment_variables": {},
   "exception": null,
   "input_path": "__notebook__.ipynb",
   "output_path": "__notebook__.ipynb",
   "parameters": {},
   "start_time": "2025-03-11T20:07:20.221282",
   "version": "2.6.0"
  }
 },
 "nbformat": 4,
 "nbformat_minor": 5
}
