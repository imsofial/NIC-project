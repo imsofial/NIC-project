{
 "cells": [
  {
   "cell_type": "code",
   "execution_count": 1,
   "id": "22337e1e",
   "metadata": {
    "_cell_guid": "b1076dfc-b9ad-4769-8c92-a6c4dae69d19",
    "_uuid": "8f2839f25d086af736a60e9eeb907d3b93b6e0e5",
    "execution": {
     "iopub.execute_input": "2025-03-11T20:07:22.803327Z",
     "iopub.status.busy": "2025-03-11T20:07:22.803038Z",
     "iopub.status.idle": "2025-03-11T20:07:37.540675Z",
     "shell.execute_reply": "2025-03-11T20:07:37.539570Z"
    },
    "papermill": {
     "duration": 14.747663,
     "end_time": "2025-03-11T20:07:37.543070",
     "exception": false,
     "start_time": "2025-03-11T20:07:22.795407",
     "status": "completed"
    },
    "tags": []
   },
   "outputs": [],
   "source": [
    "# CNN algorithm implementation was used from https://www.kaggle.com/code/huseyinndogan/cnn-tumor-classification-with-96-accuracy and adapted a bit\n",
    "import numpy as np # linear algebra\n",
    "import pandas as pd # data processing, CSV file I/O (e.g. pd.read_csv)\n",
    "\n",
    "# Input data files are available in the read-only \"../input/\" directory\n",
    "# For example, running this (by clicking run or pressing Shift+Enter) will list all files under the input directory\n",
    "\n",
    "import os\n",
    "for dirname, _, filenames in os.walk('/kaggle/input'):\n",
    "    for filename in filenames:\n",
    "        print(os.path.join(dirname, filename))\n"
   ]
  },
  {
   "cell_type": "code",
   "execution_count": 11,
   "id": "cd648ff5",
   "metadata": {},
   "outputs": [
    {
     "name": "stdout",
     "output_type": "stream",
     "text": [
      "Defaulting to user installation because normal site-packages is not writeable\n"
     ]
    },
    {
     "name": "stderr",
     "output_type": "stream",
     "text": [
      "ERROR: Could not find a version that satisfies the requirement tensorflow (from versions: none)\n",
      "ERROR: No matching distribution found for tensorflow\n"
     ]
    }
   ],
   "source": [
    "!pip install tensorflow"
   ]
  },
  {
   "cell_type": "code",
   "execution_count": 9,
   "id": "fcc0dd5b49a71bc8",
   "metadata": {
    "ExecuteTime": {
     "end_time": "2025-03-17T14:08:50.858668Z",
     "start_time": "2025-03-17T14:08:50.855669Z"
    }
   },
   "outputs": [
    {
     "ename": "ModuleNotFoundError",
     "evalue": "No module named 'cv2'",
     "output_type": "error",
     "traceback": [
      "\u001b[1;31m---------------------------------------------------------------------------\u001b[0m",
      "\u001b[1;31mModuleNotFoundError\u001b[0m                       Traceback (most recent call last)",
      "Cell \u001b[1;32mIn[9], line 1\u001b[0m\n\u001b[1;32m----> 1\u001b[0m \u001b[38;5;28;01mimport\u001b[39;00m \u001b[38;5;21;01mcv2\u001b[39;00m\n",
      "\u001b[1;31mModuleNotFoundError\u001b[0m: No module named 'cv2'"
     ]
    }
   ],
   "source": [
    "import cv2\n"
   ]
  },
  {
   "cell_type": "code",
   "execution_count": 2,
   "id": "6dd1207f",
   "metadata": {
    "ExecuteTime": {
     "end_time": "2025-03-17T14:09:23.172599Z",
     "start_time": "2025-03-17T14:09:23.165591Z"
    },
    "execution": {
     "iopub.execute_input": "2025-03-11T20:07:37.577839Z",
     "iopub.status.busy": "2025-03-11T20:07:37.577395Z",
     "iopub.status.idle": "2025-03-11T20:07:50.418369Z",
     "shell.execute_reply": "2025-03-11T20:07:50.417702Z"
    },
    "papermill": {
     "duration": 12.859048,
     "end_time": "2025-03-11T20:07:50.419932",
     "exception": false,
     "start_time": "2025-03-11T20:07:37.560884",
     "status": "completed"
    },
    "tags": []
   },
   "outputs": [
    {
     "ename": "ModuleNotFoundError",
     "evalue": "No module named 'tensorflow'",
     "output_type": "error",
     "traceback": [
      "\u001b[31m---------------------------------------------------------------------------\u001b[39m",
      "\u001b[31mModuleNotFoundError\u001b[39m                       Traceback (most recent call last)",
      "\u001b[36mCell\u001b[39m\u001b[36m \u001b[39m\u001b[32mIn[2]\u001b[39m\u001b[32m, line 1\u001b[39m\n\u001b[32m----> \u001b[39m\u001b[32m1\u001b[39m \u001b[38;5;28;01mimport\u001b[39;00m\u001b[38;5;250m \u001b[39m\u001b[34;01mtensorflow\u001b[39;00m\u001b[38;5;250m \u001b[39m\u001b[38;5;28;01mas\u001b[39;00m\u001b[38;5;250m \u001b[39m\u001b[34;01mtf\u001b[39;00m\n\u001b[32m      3\u001b[39m \u001b[38;5;28;01mfrom\u001b[39;00m\u001b[38;5;250m \u001b[39m\u001b[34;01mtensorflow\u001b[39;00m\u001b[34;01m.\u001b[39;00m\u001b[34;01mkeras\u001b[39;00m\u001b[34;01m.\u001b[39;00m\u001b[34;01mmodels\u001b[39;00m\u001b[38;5;250m \u001b[39m\u001b[38;5;28;01mimport\u001b[39;00m Sequential\n\u001b[32m      4\u001b[39m \u001b[38;5;28;01mfrom\u001b[39;00m\u001b[38;5;250m \u001b[39m\u001b[34;01mtensorflow\u001b[39;00m\u001b[34;01m.\u001b[39;00m\u001b[34;01mkeras\u001b[39;00m\u001b[34;01m.\u001b[39;00m\u001b[34;01mlayers\u001b[39;00m\u001b[38;5;250m \u001b[39m\u001b[38;5;28;01mimport\u001b[39;00m Conv2D, MaxPooling2D, Flatten, Dense, Dropout, BatchNormalization\n",
      "\u001b[31mModuleNotFoundError\u001b[39m: No module named 'tensorflow'"
     ]
    }
   ],
   "source": [
    "import tensorflow as tf\n",
    "\n",
    "from tensorflow.keras.models import Sequential\n",
    "from tensorflow.keras.layers import Conv2D, MaxPooling2D, Flatten, Dense, Dropout, BatchNormalization\n",
    "from tensorflow.keras.optimizers import Adam, SGD\n",
    "from tensorflow.keras.preprocessing.image import ImageDataGenerator\n",
    "from tensorflow.keras.initializers import HeUniform, GlorotUniform\n",
    "from sklearn.preprocessing import StandardScaler\n",
    "import numpy as npa\n",
    "import matplotlib.pyplot as plt\n",
    "import pandas as pd\n",
    "import os\n",
    "import random\n",
    "from sklearn.model_selection import train_test_split\n",
    "from sklearn.metrics import classification_report, confusion_matrix , accuracy_score\n",
    "from sklearn.preprocessing import LabelEncoder\n",
    "from tensorflow.keras.models import load_model\n",
    "from tensorflow.keras.layers import GlobalAveragePooling2D, LeakyReLU\n",
    "from tensorflow.keras.callbacks import EarlyStopping, ReduceLROnPlateau, ModelCheckpoint\n",
    "from tensorflow.keras.utils import to_categorical\n",
    "from tensorflow.keras import losses\n",
    "from sklearn.metrics import classification_report\n",
    "from tensorflow.keras.preprocessing.image import ImageDataGenerator\n",
    "\n"
   ]
  },
  {
   "cell_type": "markdown",
   "id": "5af2d1b1",
   "metadata": {
    "papermill": {
     "duration": 0.015599,
     "end_time": "2025-03-11T20:07:50.452302",
     "exception": false,
     "start_time": "2025-03-11T20:07:50.436703",
     "status": "completed"
    },
    "tags": []
   },
   "source": [
    "### 📌 1. Path Identification"
   ]
  },
  {
   "cell_type": "code",
   "execution_count": 21,
   "id": "ecb836cc",
   "metadata": {
    "ExecuteTime": {
     "end_time": "2025-03-17T12:23:18.586565Z",
     "start_time": "2025-03-17T12:23:18.578516Z"
    },
    "execution": {
     "iopub.execute_input": "2025-03-11T20:07:50.485293Z",
     "iopub.status.busy": "2025-03-11T20:07:50.484768Z",
     "iopub.status.idle": "2025-03-11T20:07:50.488520Z",
     "shell.execute_reply": "2025-03-11T20:07:50.487891Z"
    },
    "papermill": {
     "duration": 0.021388,
     "end_time": "2025-03-11T20:07:50.489741",
     "exception": false,
     "start_time": "2025-03-11T20:07:50.468353",
     "status": "completed"
    },
    "tags": []
   },
   "outputs": [],
   "source": [
    "import pathlib\n",
    "data_dir = pathlib.Path(r\"/NIC-project/brain-tumor-mri-dataset\")\n",
    "\n",
    "train_dir = 'brain-tumor-mri-dataset/Training'\n",
    "test_dir = 'brain-tumor-mri-dataset/Testing'\n"
   ]
  },
  {
   "cell_type": "markdown",
   "id": "74a4e0be",
   "metadata": {
    "papermill": {
     "duration": 0.015394,
     "end_time": "2025-03-11T20:07:50.520770",
     "exception": false,
     "start_time": "2025-03-11T20:07:50.505376",
     "status": "completed"
    },
    "tags": []
   },
   "source": [
    "### 📌 2. Data Preprocessing with ImageDataGenerator"
   ]
  },
  {
   "cell_type": "code",
   "execution_count": 3,
   "id": "c4d41273",
   "metadata": {
    "ExecuteTime": {
     "end_time": "2025-03-17T12:11:35.325237Z",
     "start_time": "2025-03-17T12:11:35.317194Z"
    },
    "execution": {
     "iopub.execute_input": "2025-03-11T20:07:50.552573Z",
     "iopub.status.busy": "2025-03-11T20:07:50.552364Z",
     "iopub.status.idle": "2025-03-11T20:07:50.555359Z",
     "shell.execute_reply": "2025-03-11T20:07:50.554771Z"
    },
    "papermill": {
     "duration": 0.020255,
     "end_time": "2025-03-11T20:07:50.556546",
     "exception": false,
     "start_time": "2025-03-11T20:07:50.536291",
     "status": "completed"
    },
    "tags": []
   },
   "outputs": [],
   "source": [
    "train_datagen = ImageDataGenerator(rescale=1./255)\n",
    "test_datagen = ImageDataGenerator(rescale=1./255)"
   ]
  },
  {
   "cell_type": "markdown",
   "id": "f7ac8b7d",
   "metadata": {
    "papermill": {
     "duration": 0.015393,
     "end_time": "2025-03-11T20:07:50.588410",
     "exception": false,
     "start_time": "2025-03-11T20:07:50.573017",
     "status": "completed"
    },
    "tags": []
   },
   "source": [
    "### 📌 3. Defining Train & Test Folders"
   ]
  },
  {
   "cell_type": "code",
   "execution_count": 22,
   "id": "66bec4ef",
   "metadata": {
    "ExecuteTime": {
     "end_time": "2025-03-17T12:23:23.935017Z",
     "start_time": "2025-03-17T12:23:23.927914Z"
    },
    "execution": {
     "iopub.execute_input": "2025-03-11T20:07:50.619943Z",
     "iopub.status.busy": "2025-03-11T20:07:50.619707Z",
     "iopub.status.idle": "2025-03-11T20:07:50.622672Z",
     "shell.execute_reply": "2025-03-11T20:07:50.622103Z"
    },
    "papermill": {
     "duration": 0.020115,
     "end_time": "2025-03-11T20:07:50.623918",
     "exception": false,
     "start_time": "2025-03-11T20:07:50.603803",
     "status": "completed"
    },
    "tags": []
   },
   "outputs": [],
   "source": [
    "train_dir = str(data_dir / \"Training\") \n",
    "test_dir = str(data_dir / \"Testing\")    "
   ]
  },
  {
   "cell_type": "markdown",
   "id": "c5081c0f",
   "metadata": {
    "execution": {
     "iopub.execute_input": "2025-03-11T19:51:51.391749Z",
     "iopub.status.busy": "2025-03-11T19:51:51.391404Z",
     "iopub.status.idle": "2025-03-11T19:51:51.395830Z",
     "shell.execute_reply": "2025-03-11T19:51:51.394680Z",
     "shell.execute_reply.started": "2025-03-11T19:51:51.391725Z"
    },
    "papermill": {
     "duration": 0.01523,
     "end_time": "2025-03-11T20:07:50.654726",
     "exception": false,
     "start_time": "2025-03-11T20:07:50.639496",
     "status": "completed"
    },
    "tags": []
   },
   "source": [
    "### 📌 4. Define Image Size & Batch Size for Model"
   ]
  },
  {
   "cell_type": "code",
   "execution_count": 15,
   "id": "0ae70264",
   "metadata": {
    "ExecuteTime": {
     "end_time": "2025-03-17T12:17:47.429191Z",
     "start_time": "2025-03-17T12:17:47.423817Z"
    },
    "execution": {
     "iopub.execute_input": "2025-03-11T20:07:50.686728Z",
     "iopub.status.busy": "2025-03-11T20:07:50.686453Z",
     "iopub.status.idle": "2025-03-11T20:07:50.689587Z",
     "shell.execute_reply": "2025-03-11T20:07:50.688968Z"
    },
    "papermill": {
     "duration": 0.020511,
     "end_time": "2025-03-11T20:07:50.690776",
     "exception": false,
     "start_time": "2025-03-11T20:07:50.670265",
     "status": "completed"
    },
    "tags": []
   },
   "outputs": [],
   "source": [
    "batch_size = 32\n",
    "img_height = 240\n",
    "img_width = 240"
   ]
  },
  {
   "cell_type": "markdown",
   "id": "529ded36",
   "metadata": {
    "papermill": {
     "duration": 0.015355,
     "end_time": "2025-03-11T20:07:50.722007",
     "exception": false,
     "start_time": "2025-03-11T20:07:50.706652",
     "status": "completed"
    },
    "tags": []
   },
   "source": [
    "### 📌 5. Loading Training and Test Datasets"
   ]
  },
  {
   "cell_type": "code",
   "execution_count": 23,
   "id": "52441859",
   "metadata": {
    "ExecuteTime": {
     "end_time": "2025-03-17T12:23:27.101998Z",
     "start_time": "2025-03-17T12:23:26.901722Z"
    },
    "execution": {
     "iopub.execute_input": "2025-03-11T20:07:50.753670Z",
     "iopub.status.busy": "2025-03-11T20:07:50.753451Z",
     "iopub.status.idle": "2025-03-11T20:07:53.919591Z",
     "shell.execute_reply": "2025-03-11T20:07:53.918780Z"
    },
    "papermill": {
     "duration": 3.183434,
     "end_time": "2025-03-11T20:07:53.920809",
     "exception": false,
     "start_time": "2025-03-11T20:07:50.737375",
     "status": "completed"
    },
    "tags": []
   },
   "outputs": [
    {
     "name": "stdout",
     "output_type": "stream",
     "text": [
      "Found 5712 images belonging to 4 classes.\n",
      "Found 1311 images belonging to 4 classes.\n",
      "Class Label : {'glioma': 0, 'meningioma': 1, 'notumor': 2, 'pituitary': 3}\n"
     ]
    }
   ],
   "source": [
    "train_generator = train_datagen.flow_from_directory(\n",
    "    train_dir,\n",
    "    target_size = (img_height , img_width),\n",
    "    batch_size= batch_size,\n",
    "    class_mode = \"categorical\"\n",
    "    )\n",
    "\n",
    "test_generator = test_datagen.flow_from_directory(\n",
    "    test_dir,\n",
    "    target_size = (img_height , img_width),\n",
    "    batch_size = batch_size,\n",
    "    class_mode = \"categorical\"\n",
    "\n",
    "    )\n",
    "\n",
    "print(r\"Class Label :\" , train_generator.class_indices)\n"
   ]
  },
  {
   "cell_type": "markdown",
   "id": "e495df73",
   "metadata": {
    "execution": {
     "iopub.execute_input": "2025-03-11T19:53:03.702031Z",
     "iopub.status.busy": "2025-03-11T19:53:03.701581Z",
     "iopub.status.idle": "2025-03-11T19:53:03.706619Z",
     "shell.execute_reply": "2025-03-11T19:53:03.705461Z",
     "shell.execute_reply.started": "2025-03-11T19:53:03.701991Z"
    },
    "papermill": {
     "duration": 0.015379,
     "end_time": "2025-03-11T20:07:53.953142",
     "exception": false,
     "start_time": "2025-03-11T20:07:53.937763",
     "status": "completed"
    },
    "tags": []
   },
   "source": [
    "### DATA PREPROCESSING SUMMARY\n",
    "\n",
    "🚀 What Does the Code Do in Brief?\n",
    "\n",
    "* Determines the dataset folder (data_dir).\n",
    "\n",
    "* Creates an ImageDataGenerator to rescale the images.\n",
    "\n",
    "* Determines the training (train_dir) and test (test_dir) data paths.\n",
    "\n",
    "* Resize the images to 240x240 and load them with flow_from_directory().\n",
    "\n",
    "* Prints the class labels."
   ]
  },
  {
   "cell_type": "markdown",
   "id": "9e4a1952",
   "metadata": {
    "execution": {
     "iopub.execute_input": "2025-03-11T19:55:38.991459Z",
     "iopub.status.busy": "2025-03-11T19:55:38.991082Z",
     "iopub.status.idle": "2025-03-11T19:55:38.995481Z",
     "shell.execute_reply": "2025-03-11T19:55:38.994344Z",
     "shell.execute_reply.started": "2025-03-11T19:55:38.991432Z"
    },
    "papermill": {
     "duration": 0.019286,
     "end_time": "2025-03-11T20:07:54.968671",
     "exception": false,
     "start_time": "2025-03-11T20:07:54.949385",
     "status": "completed"
    },
    "tags": []
   },
   "source": [
    "### 📌 6.LET'S DEVELOP THE MODEL"
   ]
  },
  {
   "cell_type": "code",
   "execution_count": 24,
   "id": "3c1b9dec",
   "metadata": {
    "ExecuteTime": {
     "end_time": "2025-03-17T12:23:41.938473Z",
     "start_time": "2025-03-17T12:23:41.927707Z"
    },
    "execution": {
     "iopub.execute_input": "2025-03-11T20:07:55.007791Z",
     "iopub.status.busy": "2025-03-11T20:07:55.007462Z",
     "iopub.status.idle": "2025-03-11T20:07:55.011406Z",
     "shell.execute_reply": "2025-03-11T20:07:55.010747Z"
    },
    "papermill": {
     "duration": 0.025315,
     "end_time": "2025-03-11T20:07:55.012700",
     "exception": false,
     "start_time": "2025-03-11T20:07:54.987385",
     "status": "completed"
    },
    "tags": []
   },
   "outputs": [],
   "source": [
    "\n",
    "train_datagen = ImageDataGenerator(\n",
    "    rescale=1./255,\n",
    "    rotation_range=40,          \n",
    "    width_shift_range=0.2,     \n",
    "    height_shift_range=0.2,    \n",
    "    shear_range=0.2,           \n",
    "    zoom_range=0.2,             \n",
    "    horizontal_flip=True,       \n",
    "    fill_mode='nearest'       \n",
    ")\n",
    "\n",
    "test_datagen = ImageDataGenerator(rescale=1./255)\n"
   ]
  },
  {
   "cell_type": "code",
   "execution_count": 25,
   "id": "3aa6b440",
   "metadata": {
    "ExecuteTime": {
     "end_time": "2025-03-17T12:23:44.546944Z",
     "start_time": "2025-03-17T12:23:44.520209Z"
    },
    "execution": {
     "iopub.execute_input": "2025-03-11T20:07:55.053485Z",
     "iopub.status.busy": "2025-03-11T20:07:55.053275Z",
     "iopub.status.idle": "2025-03-11T20:07:55.906087Z",
     "shell.execute_reply": "2025-03-11T20:07:55.905338Z"
    },
    "papermill": {
     "duration": 0.874659,
     "end_time": "2025-03-11T20:07:55.907662",
     "exception": false,
     "start_time": "2025-03-11T20:07:55.033003",
     "status": "completed"
    },
    "tags": []
   },
   "outputs": [],
   "source": [
    "model = Sequential([\n",
    "    Conv2D(32 , (5,5) , activation=\"relu\" ,padding=\"valid\", kernel_initializer=HeUniform()),\n",
    "    MaxPooling2D(2,2),\n",
    "    BatchNormalization(),\n",
    "\n",
    "    Conv2D(64 , (5,5) , activation=\"relu\" ,padding=\"valid\", kernel_initializer=HeUniform()),\n",
    "    MaxPooling2D(2,2),\n",
    "    BatchNormalization(),\n",
    "\n",
    "    Conv2D(128 , (5,5) , activation=\"relu\" ,padding=\"valid\", kernel_initializer=HeUniform()),\n",
    "    MaxPooling2D(2,2),\n",
    "    BatchNormalization(),\n",
    "\n",
    "    Flatten(),\n",
    "\n",
    "    Dense(64 , activation=\"relu\" , kernel_initializer=HeUniform()),\n",
    "    Dropout(0.2),\n",
    "    BatchNormalization(),\n",
    "    Dense(128 , activation=\"relu\" , kernel_initializer=HeUniform()),\n",
    "    Dropout(0.2),\n",
    "    BatchNormalization(),\n",
    "    Dense(256 , activation=\"relu\" , kernel_initializer=HeUniform()),\n",
    "    Dropout(0.3),\n",
    "    BatchNormalization(),\n",
    "\n",
    "    Dense(4 , activation=\"softmax\" , kernel_initializer=GlorotUniform()),\n",
    "\n",
    "    ])"
   ]
  },
  {
   "cell_type": "code",
   "execution_count": 26,
   "id": "814d8419",
   "metadata": {
    "ExecuteTime": {
     "end_time": "2025-03-17T12:23:46.728740Z",
     "start_time": "2025-03-17T12:23:46.718136Z"
    },
    "execution": {
     "iopub.execute_input": "2025-03-11T20:07:55.953320Z",
     "iopub.status.busy": "2025-03-11T20:07:55.953048Z",
     "iopub.status.idle": "2025-03-11T20:07:55.974166Z",
     "shell.execute_reply": "2025-03-11T20:07:55.973071Z"
    },
    "papermill": {
     "duration": 0.047849,
     "end_time": "2025-03-11T20:07:55.976282",
     "exception": false,
     "start_time": "2025-03-11T20:07:55.928433",
     "status": "completed"
    },
    "tags": []
   },
   "outputs": [],
   "source": [
    "model.compile(optimizer=Adam(learning_rate=0.0001) , loss=\"categorical_crossentropy\", metrics=[\"accuracy\"])"
   ]
  },
  {
   "cell_type": "code",
   "execution_count": 28,
   "id": "81c48c70",
   "metadata": {
    "ExecuteTime": {
     "end_time": "2025-03-17T13:58:21.197073Z",
     "start_time": "2025-03-17T13:31:11.849723Z"
    },
    "execution": {
     "iopub.execute_input": "2025-03-11T20:07:56.026176Z",
     "iopub.status.busy": "2025-03-11T20:07:56.025901Z",
     "iopub.status.idle": "2025-03-11T20:11:38.858039Z",
     "shell.execute_reply": "2025-03-11T20:11:38.857124Z"
    },
    "papermill": {
     "duration": 222.913538,
     "end_time": "2025-03-11T20:11:38.914901",
     "exception": false,
     "start_time": "2025-03-11T20:07:56.001363",
     "status": "completed"
    },
    "tags": []
   },
   "outputs": [
    {
     "name": "stdout",
     "output_type": "stream",
     "text": [
      "Epoch 1/10\n",
      "\u001b[1m179/179\u001b[0m \u001b[32m━━━━━━━━━━━━━━━━━━━━\u001b[0m\u001b[37m\u001b[0m \u001b[1m534s\u001b[0m 3s/step - accuracy: 0.6769 - loss: 0.8260 - val_accuracy: 0.7292 - val_loss: 0.7150\n",
      "Epoch 2/10\n",
      "\u001b[1m179/179\u001b[0m \u001b[32m━━━━━━━━━━━━━━━━━━━━\u001b[0m\u001b[37m\u001b[0m \u001b[1m310s\u001b[0m 2s/step - accuracy: 0.7055 - loss: 0.7714 - val_accuracy: 0.6903 - val_loss: 0.8881\n",
      "Epoch 3/10\n",
      "\u001b[1m179/179\u001b[0m \u001b[32m━━━━━━━━━━━━━━━━━━━━\u001b[0m\u001b[37m\u001b[0m \u001b[1m321s\u001b[0m 2s/step - accuracy: 0.7057 - loss: 0.7659 - val_accuracy: 0.6728 - val_loss: 0.8499\n",
      "Epoch 4/10\n",
      "\u001b[1m179/179\u001b[0m \u001b[32m━━━━━━━━━━━━━━━━━━━━\u001b[0m\u001b[37m\u001b[0m \u001b[1m464s\u001b[0m 3s/step - accuracy: 0.7264 - loss: 0.7142 - val_accuracy: 0.7178 - val_loss: 0.8003\n"
     ]
    }
   ],
   "source": [
    "early_stop = EarlyStopping(patience=3,monitor=\"val_loss\", restore_best_weights=True)\n",
    "\n",
    "fit = model.fit(train_generator,epochs=10 #(epoch count is reduced due to process length.)\n",
    ", validation_data=(test_generator) , callbacks=[early_stop])"
   ]
  },
  {
   "cell_type": "code",
   "execution_count": 30,
   "id": "8baeec065aa2b3d7",
   "metadata": {
    "ExecuteTime": {
     "end_time": "2025-03-17T14:06:40.706875Z",
     "start_time": "2025-03-17T14:06:40.259885Z"
    }
   },
   "outputs": [],
   "source": [
    "model.save(\"brain_tumor_model.keras\")\n"
   ]
  },
  {
   "cell_type": "code",
   "execution_count": 31,
   "id": "a80bc41e28e55f4d",
   "metadata": {
    "ExecuteTime": {
     "end_time": "2025-03-17T14:06:48.821747Z",
     "start_time": "2025-03-17T14:06:48.462243Z"
    }
   },
   "outputs": [
    {
     "name": "stderr",
     "output_type": "stream",
     "text": [
      "C:\\Users\\hamza\\PycharmProjects\\NN_project\\.venv\\Lib\\site-packages\\keras\\src\\saving\\saving_lib.py:757: UserWarning: Skipping variable loading for optimizer 'rmsprop', because it has 28 variables whereas the saved optimizer has 54 variables. \n",
      "  saveable.load_own_variables(weights_store.get(inner_path))\n"
     ]
    }
   ],
   "source": [
    "model = tf.keras.models.load_model(\"brain_tumor_model.keras\")\n"
   ]
  },
  {
   "cell_type": "code",
   "execution_count": null,
   "id": "75d924de9f93ae7a",
   "metadata": {},
   "outputs": [],
   "source": [
    "### LET'S TEST ON INPUT IMAGE "
   ]
  },
  {
   "cell_type": "code",
   "execution_count": 36,
   "id": "db9049aa6163fede",
   "metadata": {
    "ExecuteTime": {
     "end_time": "2025-03-17T14:09:40.790571Z",
     "start_time": "2025-03-17T14:09:40.531534Z"
    }
   },
   "outputs": [
    {
     "name": "stdout",
     "output_type": "stream",
     "text": [
      "\u001b[1m1/1\u001b[0m \u001b[32m━━━━━━━━━━━━━━━━━━━━\u001b[0m\u001b[37m\u001b[0m \u001b[1m0s\u001b[0m 192ms/step\n",
      "Предсказанный класс: Glioma\n"
     ]
    }
   ],
   "source": [
    "def predict_image(image_path, model):\n",
    "    img = cv2.imread(image_path)  # Image loading\n",
    "    img = cv2.cvtColor(img, cv2.COLOR_BGR2RGB)  # Change image color to rgb\n",
    "    img = cv2.resize(img, (240, 240))  # Change the size of image to fit the model\n",
    "    img = img / 255.0  # Normalise\n",
    "    img = npa.expand_dims(img, axis=0) \n",
    "\n",
    "    prediction = model.predict(img)  # Predict image \n",
    "    predicted_class = npa.argmax(prediction)  # Get predicted image class - from 0 to 3\n",
    "\n",
    "    class_labels = {0: \"Glioma\", 1: \"Meningioma\", 2: \"No Tumor\", 3: \"Pituitary Tumor\"}\n",
    "    return class_labels[predicted_class]  # Get the name of LABEL \n",
    "\n",
    "image_path = \"brain-tumor-mri-dataset/test-glioma.jpg\"  \n",
    "result = predict_image(image_path, model) # func call\n",
    "print(f\"Предсказанный класс: {result}\")\n"
   ]
  },
  {
   "cell_type": "markdown",
   "id": "79945b03",
   "metadata": {
    "papermill": {
     "duration": 0.092607,
     "end_time": "2025-03-11T20:11:42.127627",
     "exception": false,
     "start_time": "2025-03-11T20:11:42.035020",
     "status": "completed"
    },
    "tags": []
   },
   "source": [
    "# LET'S EVALUATE THE MODEL"
   ]
  },
  {
   "cell_type": "code",
   "execution_count": 15,
   "id": "3d9b65a1",
   "metadata": {
    "execution": {
     "iopub.execute_input": "2025-03-11T20:11:42.313376Z",
     "iopub.status.busy": "2025-03-11T20:11:42.313089Z",
     "iopub.status.idle": "2025-03-11T20:11:42.943402Z",
     "shell.execute_reply": "2025-03-11T20:11:42.942424Z"
    },
    "papermill": {
     "duration": 0.723648,
     "end_time": "2025-03-11T20:11:42.944716",
     "exception": false,
     "start_time": "2025-03-11T20:11:42.221068",
     "status": "completed"
    },
    "tags": []
   },
   "outputs": [
    {
     "name": "stdout",
     "output_type": "stream",
     "text": [
      "\u001b[1m1/1\u001b[0m \u001b[32m━━━━━━━━━━━━━━━━━━━━\u001b[0m\u001b[37m\u001b[0m \u001b[1m0s\u001b[0m 487ms/step\n",
      "Accuracy: 0.90625\n",
      "Classification Report:\n",
      "              precision    recall  f1-score   support\n",
      "\n",
      "           0       1.00      0.71      0.83         7\n",
      "           1       0.71      0.83      0.77         6\n",
      "           2       0.91      1.00      0.95        10\n",
      "           3       1.00      1.00      1.00         9\n",
      "\n",
      "    accuracy                           0.91        32\n",
      "   macro avg       0.91      0.89      0.89        32\n",
      "weighted avg       0.92      0.91      0.91        32\n",
      "\n",
      "Confusion Matrix:\n",
      "[[ 5  2  0  0]\n",
      " [ 0  5  1  0]\n",
      " [ 0  0 10  0]\n",
      " [ 0  0  0  9]]\n"
     ]
    }
   ],
   "source": [
    "\n",
    "x_test, y_test = next(test_generator)  \n",
    "\n",
    "\n",
    "predictions = model.predict(x_test)\n",
    "\n",
    "\n",
    "predicted_classes = np.argmax(predictions, axis=1)\n",
    "true_classes = np.argmax(y_test, axis=1)\n",
    "\n",
    "\n",
    "print(\"Accuracy:\", accuracy_score(true_classes, predicted_classes))\n",
    "print(\"Classification Report:\")\n",
    "print(classification_report(true_classes, predicted_classes))\n",
    "print(\"Confusion Matrix:\")\n",
    "print(confusion_matrix(true_classes, predicted_classes))\n"
   ]
  },
  {
   "cell_type": "markdown",
   "id": "673bc71f",
   "metadata": {
    "papermill": {
     "duration": 0.093112,
     "end_time": "2025-03-11T20:11:43.130828",
     "exception": false,
     "start_time": "2025-03-11T20:11:43.037716",
     "status": "completed"
    },
    "tags": []
   },
   "source": [
    "* If you get an error, you can check the code below."
   ]
  },
  {
   "cell_type": "code",
   "execution_count": 16,
   "id": "85703253",
   "metadata": {
    "execution": {
     "iopub.execute_input": "2025-03-11T20:11:43.316707Z",
     "iopub.status.busy": "2025-03-11T20:11:43.316382Z",
     "iopub.status.idle": "2025-03-11T20:11:43.321193Z",
     "shell.execute_reply": "2025-03-11T20:11:43.320401Z"
    },
    "papermill": {
     "duration": 0.099042,
     "end_time": "2025-03-11T20:11:43.322486",
     "exception": false,
     "start_time": "2025-03-11T20:11:43.223444",
     "status": "completed"
    },
    "tags": []
   },
   "outputs": [
    {
     "data": {
      "text/plain": [
       "'\\n\\nall_predictions = []\\nall_true_classes = []\\n\\n\\nfor x_batch, y_batch in test_generator:\\n    predictions = model.predict(x_batch)\\n    predicted_classes = np.argmax(predictions, axis=1)\\n    true_classes = np.argmax(y_batch, axis=1)\\n    \\n\\n    all_predictions.extend(predicted_classes)\\n    all_true_classes.extend(true_classes)\\n\\n\\nprint(\"Accuracy:\", accuracy_score(all_true_classes, all_predictions))\\nprint(\"Classification Report:\")\\n\\nprint(classification_report(all_true_classes, all_predictions))\\n\\nprint(\"Confusion Matrix:\")\\nprint(confusion_matrix(all_true_classes, all_predictions))\\n\\n\\n'"
      ]
     },
     "execution_count": 16,
     "metadata": {},
     "output_type": "execute_result"
    }
   ],
   "source": [
    "\n",
    "'''\n",
    "\n",
    "all_predictions = []\n",
    "all_true_classes = []\n",
    "\n",
    "\n",
    "for x_batch, y_batch in test_generator:\n",
    "    predictions = model.predict(x_batch)\n",
    "    predicted_classes = np.argmax(predictions, axis=1)\n",
    "    true_classes = np.argmax(y_batch, axis=1)\n",
    "    \n",
    "\n",
    "    all_predictions.extend(predicted_classes)\n",
    "    all_true_classes.extend(true_classes)\n",
    "\n",
    "\n",
    "print(\"Accuracy:\", accuracy_score(all_true_classes, all_predictions))\n",
    "print(\"Classification Report:\")\n",
    "\n",
    "print(classification_report(all_true_classes, all_predictions))\n",
    "\n",
    "print(\"Confusion Matrix:\")\n",
    "print(confusion_matrix(all_true_classes, all_predictions))\n",
    "\n",
    "\n",
    "'''\n",
    "\n"
   ]
  },
  {
   "cell_type": "markdown",
   "id": "03318a95",
   "metadata": {
    "papermill": {
     "duration": 0.093306,
     "end_time": "2025-03-11T20:11:43.507306",
     "exception": false,
     "start_time": "2025-03-11T20:11:43.414000",
     "status": "completed"
    },
    "tags": []
   },
   "source": [
    "### I hope it was useful for you."
   ]
  }
 ],
 "metadata": {
  "kaggle": {
   "accelerator": "gpu",
   "dataSources": [
    {
     "datasetId": 1608934,
     "sourceId": 2645886,
     "sourceType": "datasetVersion"
    }
   ],
   "dockerImageVersionId": 30919,
   "isGpuEnabled": true,
   "isInternetEnabled": true,
   "language": "python",
   "sourceType": "notebook"
  },
  "kernelspec": {
   "display_name": "Python 3",
   "language": "python",
   "name": "python3"
  },
  "language_info": {
   "codemirror_mode": {
    "name": "ipython",
    "version": 3
   },
   "file_extension": ".py",
   "mimetype": "text/x-python",
   "name": "python",
   "nbconvert_exporter": "python",
   "pygments_lexer": "ipython3",
   "version": "3.12.6"
  },
  "papermill": {
   "default_parameters": {},
   "duration": 265.982137,
   "end_time": "2025-03-11T20:11:46.203419",
   "environment_variables": {},
   "exception": null,
   "input_path": "__notebook__.ipynb",
   "output_path": "__notebook__.ipynb",
   "parameters": {},
   "start_time": "2025-03-11T20:07:20.221282",
   "version": "2.6.0"
  }
 },
 "nbformat": 4,
 "nbformat_minor": 5
}
