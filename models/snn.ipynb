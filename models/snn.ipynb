{
 "cells": [
  {
   "cell_type": "markdown",
   "metadata": {},
   "source": [
    "# Setting up"
   ]
  },
  {
   "cell_type": "code",
   "execution_count": null,
   "metadata": {},
   "outputs": [],
   "source": [
    "# All the needed imports\n",
    "# import tenserflow\n",
    "import torch\n",
    "import torch.nn as nn\n",
    "import torch.optim as optim\n",
    "import torchvision.transforms as transforms\n",
    "import torchvision.datasets as datasets\n",
    "from torch.utils.data import DataLoader\n",
    "import spikingjelly.activation_based.encoding as encoding\n",
    "import spikingjelly.activation_based.neuron as neuron\n",
    "import spikingjelly.activation_based.functional as functional\n",
    "import matplotlib.pyplot as plt\n",
    "import numpy as np\n",
    "import pathlib\n",
    "import os"
   ]
  },
  {
   "cell_type": "markdown",
   "metadata": {},
   "source": [
    "**prepocess images**"
   ]
  },
  {
   "cell_type": "code",
   "execution_count": 9,
   "metadata": {},
   "outputs": [
    {
     "name": "stdout",
     "output_type": "stream",
     "text": [
      "Class Labels: ['glioma', 'meningioma', 'notumor', 'pituitary']\n"
     ]
    }
   ],
   "source": [
    "# Finding the data in the dictionary\n",
    "data_dir = pathlib.Path(\"..\") / \"brain-tumor-mri-dataset\"\n",
    "train_dir = data_dir / \"Training\"\n",
    "test_dir = data_dir / \"Testing\"\n",
    "\n",
    "\n",
    "transform_train = transforms.Compose([\n",
    "    transforms.Grayscale(),  # Convert to grayscale\n",
    "    transforms.Resize((64, 64)),  # Resize for SNN, 64 for saving memory\n",
    "    transforms.RandomRotation(30),  # Rotation augmentation (randomly rotates the image up to ±30 degrees)\n",
    "    transforms.RandomHorizontalFlip(), # Flips images horizontally (left to right)\n",
    "    transforms.ToTensor(),  # Convert to Tensor\n",
    "    transforms.Normalize((0.5,), (0.5,))  # Normalize, by reducing sharp spikes in activation\n",
    "])\n",
    "\n",
    "# Evaluate the model on real, unaltered images, so we dont do image augmantation.\n",
    "transform_test = transforms.Compose([\n",
    "    transforms.Grayscale(),\n",
    "    transforms.Resize((64, 64)),\n",
    "    transforms.ToTensor(),\n",
    "    transforms.Normalize((0.5,), (0.5,))\n",
    "])\n",
    "\n",
    "# Load images to train and test sets\n",
    "train_dataset = datasets.ImageFolder(root=train_dir, transform=transform_train)\n",
    "test_dataset = datasets.ImageFolder(root=test_dir, transform=transform_test)\n",
    "\n",
    "# Group multiple images into batches \n",
    "batch_size = 32\n",
    "train_loader = DataLoader(train_dataset, batch_size=batch_size, shuffle=True)\n",
    "test_loader = DataLoader(test_dataset, batch_size=batch_size, shuffle=False)\n",
    "\n",
    "# Test correctness\n",
    "print(\"Class Labels:\", train_dataset.classes)\n"
   ]
  },
  {
   "cell_type": "markdown",
   "metadata": {},
   "source": [
    "**poisson encoding**"
   ]
  },
  {
   "cell_type": "code",
   "execution_count": null,
   "metadata": {},
   "outputs": [
    {
     "name": "stdout",
     "output_type": "stream",
     "text": [
      "Original Shape: torch.Size([32, 1, 64, 64])\n",
      "Spike Encoded Shape: torch.Size([10, 32, 1, 64, 64])\n"
     ]
    }
   ],
   "source": [
    "# Encoding transforms each pixel into a series of spikes:\n",
    "# - Poisson encoding converts pixel intensity into a probability of firing.\n",
    "# - Bright pixels fire more spikes, while dark pixels fire fewer.\n",
    "\n",
    "# Convert image tensors into spikes\n",
    "encoder = encoding.PoissonEncoder()\n",
    "\n",
    "# Define timesteps (how many times an image generates spikes)\n",
    "timesteps = 10 \n",
    "\n",
    "# Convert image batch into spike that trains over multiple timesteps.\n",
    "def encode_batch(batch, timesteps):\n",
    "    encoded_spikes = torch.stack([encoder(batch) for _ in range(timesteps)], dim=0)  \n",
    "    return encoded_spikes\n",
    "\n",
    "# Encode a sample batch\n",
    "sample_batch, sample_labels = next(iter(train_loader))\n",
    "spike_batch = encode_batch(sample_batch, timesteps)\n",
    "\n",
    "print(\"Original Shape:\", sample_batch.shape) # test them\n",
    "print(\"Spike Encoded Shape:\", spike_batch.shape)\n"
   ]
  },
  {
   "cell_type": "code",
   "execution_count": null,
   "metadata": {},
   "outputs": [],
   "source": []
  }
 ],
 "metadata": {
  "kernelspec": {
   "display_name": "Python 3",
   "language": "python",
   "name": "python3"
  },
  "language_info": {
   "codemirror_mode": {
    "name": "ipython",
    "version": 3
   },
   "file_extension": ".py",
   "mimetype": "text/x-python",
   "name": "python",
   "nbconvert_exporter": "python",
   "pygments_lexer": "ipython3",
   "version": "3.13.1"
  }
 },
 "nbformat": 4,
 "nbformat_minor": 2
}
